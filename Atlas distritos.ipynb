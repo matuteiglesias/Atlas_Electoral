{
 "cells": [
  {
   "cell_type": "code",
   "execution_count": 1,
   "metadata": {},
   "outputs": [],
   "source": [
    "from IPython.display import display, Markdown, Latex"
   ]
  },
  {
   "cell_type": "code",
   "execution_count": 2,
   "metadata": {},
   "outputs": [
    {
     "data": {
      "text/html": [
       "<style>.container { width:100% !important; }</style>"
      ],
      "text/plain": [
       "<IPython.core.display.HTML object>"
      ]
     },
     "metadata": {},
     "output_type": "display_data"
    }
   ],
   "source": [
    "import warnings\n",
    "warnings.filterwarnings('ignore')\n",
    "from IPython.core.display import display, HTML\n",
    "display(HTML(\"<style>.container { width:100% !important; }</style>\"))\n",
    "from satellite import *\n",
    "\n",
    "import matplotlib.pyplot as plt; import numpy as np\n",
    "import geopandas as gpd; from shapely.ops import cascaded_union\n",
    "\n",
    "import pandas as pd\n",
    "pd.options.display.max_rows = 160"
   ]
  },
  {
   "cell_type": "markdown",
   "metadata": {},
   "source": []
  },
  {
   "cell_type": "code",
   "execution_count": 3,
   "metadata": {},
   "outputs": [],
   "source": [
    "## Algunos resultados de mezclar Censo con EPH y  circuitos electorales"
   ]
  },
  {
   "cell_type": "code",
   "execution_count": 5,
   "metadata": {},
   "outputs": [],
   "source": [
    "# Cargamos poligonos de mapas\n",
    "gdf2 = gpd.read_file('./../EleccionesARG/data/circuitos/custom/BA_custom_areas.shp')\n",
    "gdf2 = gdf2.drop([819, 818, 823])\n",
    "# gdf2.loc[gdf2.dpto_merge == 'san fernando'].sort_values(by = 'area_1').area #islas gdes de san fernando\n",
    "# numero de electores\n",
    "electoresxlugar = pd.read_csv('./n_electores.csv', index_col=[0, 1])"
   ]
  },
  {
   "cell_type": "code",
   "execution_count": 6,
   "metadata": {},
   "outputs": [],
   "source": [
    "electores_area0 = electoresxlugar.groupby(level = 0).sum()"
   ]
  },
  {
   "cell_type": "code",
   "execution_count": 7,
   "metadata": {},
   "outputs": [],
   "source": [
    "# cat_ocups"
   ]
  },
  {
   "cell_type": "code",
   "execution_count": 8,
   "metadata": {
    "scrolled": false
   },
   "outputs": [],
   "source": [
    "# cat_ocups = pd.read_csv('./cat_ocups.csv', index_col=[0], skiprows=3)\n",
    "# cat_ocups.columns = ['x', 'Desocupado', 'y','Jubilado', 'Estudiante', 'Ama de casa', 'Otros', 'Rentista', 'Cta Propia', 'Obrero', 'z', 'Patron']\n",
    "# cat_ocups = cat_ocups.reindex(cat_ocups.sum().sort_values(ascending = False).index[:6], axis = 1).fillna(1)\n",
    "# cat_ocups = cat_ocups\n",
    "# cat_ocups['otros/err'] = 100-cat_ocups.sum(1)\n",
    "\n",
    "# cat_ocups_ = pd.concat([cat_ocups, electores_area0], 1)\n",
    "\n",
    "# show = cat_ocups_.sample(20).sort_values(by = 'Obrero').round(1)\n",
    "# show\n",
    "# # import seaborn as sns\n",
    "# # cm = sns.light_palette(\"green\", as_cmap=True)\n",
    "# # s = show.style.background_gradient(cmap=cm, subset = ['Obrero', 'Jubilado'])\n",
    "# # s\n",
    "\n",
    "\n",
    "# # En el interior hay una piramide un poquito mas envejecida"
   ]
  },
  {
   "cell_type": "code",
   "execution_count": 10,
   "metadata": {},
   "outputs": [],
   "source": [
    "votos = pd.read_csv('./votos_area_pct.csv', index_col=[0], header = [0])\n",
    "\n",
    "votos.columns = ['ELECTORES', 'ELECTORES', 'ELECTORES', 'VOTANTES', 'VOTANTES',\n",
    "       'VOTANTES', 'CAMBIEMOS', 'CAMBIEMOS', 'CAMBIEMOS', 'FPV / UC', 'FPV / UC', 'FPV / UC', 'Massa', 'Massa', 'Massa', 'BLANCOS', 'BLANCOS', 'BLANCOS',\n",
    "       'FJ (Randazzo)', 'FJ (Randazzo)', 'FIT', 'FIT', 'FIT']\n",
    "cols = list(zip(votos.columns, votos.iloc[0,:]))\n",
    "c1 = pd.MultiIndex.from_tuples(cols, names=['Fuerza', 'Eleccion'])\n",
    "votos = pd.DataFrame(data=votos[2:].values, columns=c1, index=votos.index[2:])\n",
    "votos.index.names = ['area_0']\n",
    "votos = votos.astype(float).round(1)#.astype(int)\n",
    "\n",
    "# votos.sample(3).sample(3, axis = 1)\n"
   ]
  },
  {
   "cell_type": "markdown",
   "metadata": {},
   "source": []
  },
  {
   "cell_type": "code",
   "execution_count": 11,
   "metadata": {},
   "outputs": [],
   "source": [
    "### Dataset votos"
   ]
  },
  {
   "cell_type": "code",
   "execution_count": 12,
   "metadata": {
    "scrolled": false
   },
   "outputs": [
    {
     "ename": "FileNotFoundError",
     "evalue": "File b'./votos_comb.csv' does not exist",
     "output_type": "error",
     "traceback": [
      "\u001b[0;31m---------------------------------------------------------------------------\u001b[0m",
      "\u001b[0;31mFileNotFoundError\u001b[0m                         Traceback (most recent call last)",
      "\u001b[0;32m<ipython-input-12-8516be37519c>\u001b[0m in \u001b[0;36m<module>\u001b[0;34m()\u001b[0m\n\u001b[1;32m      1\u001b[0m \u001b[0;34m\u001b[0m\u001b[0m\n\u001b[1;32m      2\u001b[0m \u001b[0;31m# votos = pd.read_csv('./../../Documents/EleccionesARG/data/tablas_votos/VOTOS_2015_17_circ_cnt.csv', index_col=[0, 1, 2], header = [0])\u001b[0m\u001b[0;34m\u001b[0m\u001b[0;34m\u001b[0m\u001b[0;34m\u001b[0m\u001b[0m\n\u001b[0;32m----> 3\u001b[0;31m \u001b[0mvotos\u001b[0m \u001b[0;34m=\u001b[0m \u001b[0mpd\u001b[0m\u001b[0;34m.\u001b[0m\u001b[0mread_csv\u001b[0m\u001b[0;34m(\u001b[0m\u001b[0;34m'./votos_comb.csv'\u001b[0m\u001b[0;34m,\u001b[0m \u001b[0mindex_col\u001b[0m\u001b[0;34m=\u001b[0m\u001b[0;34m[\u001b[0m\u001b[0;36m0\u001b[0m\u001b[0;34m,\u001b[0m \u001b[0;36m1\u001b[0m\u001b[0;34m]\u001b[0m\u001b[0;34m,\u001b[0m \u001b[0mheader\u001b[0m \u001b[0;34m=\u001b[0m \u001b[0;34m[\u001b[0m\u001b[0;36m0\u001b[0m\u001b[0;34m]\u001b[0m\u001b[0;34m)\u001b[0m\u001b[0;34m\u001b[0m\u001b[0;34m\u001b[0m\u001b[0m\n\u001b[0m\u001b[1;32m      4\u001b[0m \u001b[0;31m# Toda esta vuelta es para ponerle nombres familiares a las listas. Pandas no deja setear nombres repetidos en nivel de multiindex\u001b[0m\u001b[0;34m\u001b[0m\u001b[0;34m\u001b[0m\u001b[0;34m\u001b[0m\u001b[0m\n\u001b[1;32m      5\u001b[0m votos.columns = ['ELECTORES', 'ELECTORES', 'ELECTORES', 'VOTANTES', 'VOTANTES',\n",
      "\u001b[0;32m~/anaconda2/envs/my_pymc_env/lib/python3.6/site-packages/pandas/io/parsers.py\u001b[0m in \u001b[0;36mparser_f\u001b[0;34m(filepath_or_buffer, sep, delimiter, header, names, index_col, usecols, squeeze, prefix, mangle_dupe_cols, dtype, engine, converters, true_values, false_values, skipinitialspace, skiprows, nrows, na_values, keep_default_na, na_filter, verbose, skip_blank_lines, parse_dates, infer_datetime_format, keep_date_col, date_parser, dayfirst, iterator, chunksize, compression, thousands, decimal, lineterminator, quotechar, quoting, escapechar, comment, encoding, dialect, tupleize_cols, error_bad_lines, warn_bad_lines, skipfooter, doublequote, delim_whitespace, low_memory, memory_map, float_precision)\u001b[0m\n\u001b[1;32m    676\u001b[0m                     skip_blank_lines=skip_blank_lines)\n\u001b[1;32m    677\u001b[0m \u001b[0;34m\u001b[0m\u001b[0m\n\u001b[0;32m--> 678\u001b[0;31m         \u001b[0;32mreturn\u001b[0m \u001b[0m_read\u001b[0m\u001b[0;34m(\u001b[0m\u001b[0mfilepath_or_buffer\u001b[0m\u001b[0;34m,\u001b[0m \u001b[0mkwds\u001b[0m\u001b[0;34m)\u001b[0m\u001b[0;34m\u001b[0m\u001b[0;34m\u001b[0m\u001b[0m\n\u001b[0m\u001b[1;32m    679\u001b[0m \u001b[0;34m\u001b[0m\u001b[0m\n\u001b[1;32m    680\u001b[0m     \u001b[0mparser_f\u001b[0m\u001b[0;34m.\u001b[0m\u001b[0m__name__\u001b[0m \u001b[0;34m=\u001b[0m \u001b[0mname\u001b[0m\u001b[0;34m\u001b[0m\u001b[0;34m\u001b[0m\u001b[0m\n",
      "\u001b[0;32m~/anaconda2/envs/my_pymc_env/lib/python3.6/site-packages/pandas/io/parsers.py\u001b[0m in \u001b[0;36m_read\u001b[0;34m(filepath_or_buffer, kwds)\u001b[0m\n\u001b[1;32m    438\u001b[0m \u001b[0;34m\u001b[0m\u001b[0m\n\u001b[1;32m    439\u001b[0m     \u001b[0;31m# Create the parser.\u001b[0m\u001b[0;34m\u001b[0m\u001b[0;34m\u001b[0m\u001b[0;34m\u001b[0m\u001b[0m\n\u001b[0;32m--> 440\u001b[0;31m     \u001b[0mparser\u001b[0m \u001b[0;34m=\u001b[0m \u001b[0mTextFileReader\u001b[0m\u001b[0;34m(\u001b[0m\u001b[0mfilepath_or_buffer\u001b[0m\u001b[0;34m,\u001b[0m \u001b[0;34m**\u001b[0m\u001b[0mkwds\u001b[0m\u001b[0;34m)\u001b[0m\u001b[0;34m\u001b[0m\u001b[0;34m\u001b[0m\u001b[0m\n\u001b[0m\u001b[1;32m    441\u001b[0m \u001b[0;34m\u001b[0m\u001b[0m\n\u001b[1;32m    442\u001b[0m     \u001b[0;32mif\u001b[0m \u001b[0mchunksize\u001b[0m \u001b[0;32mor\u001b[0m \u001b[0miterator\u001b[0m\u001b[0;34m:\u001b[0m\u001b[0;34m\u001b[0m\u001b[0;34m\u001b[0m\u001b[0m\n",
      "\u001b[0;32m~/anaconda2/envs/my_pymc_env/lib/python3.6/site-packages/pandas/io/parsers.py\u001b[0m in \u001b[0;36m__init__\u001b[0;34m(self, f, engine, **kwds)\u001b[0m\n\u001b[1;32m    785\u001b[0m             \u001b[0mself\u001b[0m\u001b[0;34m.\u001b[0m\u001b[0moptions\u001b[0m\u001b[0;34m[\u001b[0m\u001b[0;34m'has_index_names'\u001b[0m\u001b[0;34m]\u001b[0m \u001b[0;34m=\u001b[0m \u001b[0mkwds\u001b[0m\u001b[0;34m[\u001b[0m\u001b[0;34m'has_index_names'\u001b[0m\u001b[0;34m]\u001b[0m\u001b[0;34m\u001b[0m\u001b[0;34m\u001b[0m\u001b[0m\n\u001b[1;32m    786\u001b[0m \u001b[0;34m\u001b[0m\u001b[0m\n\u001b[0;32m--> 787\u001b[0;31m         \u001b[0mself\u001b[0m\u001b[0;34m.\u001b[0m\u001b[0m_make_engine\u001b[0m\u001b[0;34m(\u001b[0m\u001b[0mself\u001b[0m\u001b[0;34m.\u001b[0m\u001b[0mengine\u001b[0m\u001b[0;34m)\u001b[0m\u001b[0;34m\u001b[0m\u001b[0;34m\u001b[0m\u001b[0m\n\u001b[0m\u001b[1;32m    788\u001b[0m \u001b[0;34m\u001b[0m\u001b[0m\n\u001b[1;32m    789\u001b[0m     \u001b[0;32mdef\u001b[0m \u001b[0mclose\u001b[0m\u001b[0;34m(\u001b[0m\u001b[0mself\u001b[0m\u001b[0;34m)\u001b[0m\u001b[0;34m:\u001b[0m\u001b[0;34m\u001b[0m\u001b[0;34m\u001b[0m\u001b[0m\n",
      "\u001b[0;32m~/anaconda2/envs/my_pymc_env/lib/python3.6/site-packages/pandas/io/parsers.py\u001b[0m in \u001b[0;36m_make_engine\u001b[0;34m(self, engine)\u001b[0m\n\u001b[1;32m   1012\u001b[0m     \u001b[0;32mdef\u001b[0m \u001b[0m_make_engine\u001b[0m\u001b[0;34m(\u001b[0m\u001b[0mself\u001b[0m\u001b[0;34m,\u001b[0m \u001b[0mengine\u001b[0m\u001b[0;34m=\u001b[0m\u001b[0;34m'c'\u001b[0m\u001b[0;34m)\u001b[0m\u001b[0;34m:\u001b[0m\u001b[0;34m\u001b[0m\u001b[0;34m\u001b[0m\u001b[0m\n\u001b[1;32m   1013\u001b[0m         \u001b[0;32mif\u001b[0m \u001b[0mengine\u001b[0m \u001b[0;34m==\u001b[0m \u001b[0;34m'c'\u001b[0m\u001b[0;34m:\u001b[0m\u001b[0;34m\u001b[0m\u001b[0;34m\u001b[0m\u001b[0m\n\u001b[0;32m-> 1014\u001b[0;31m             \u001b[0mself\u001b[0m\u001b[0;34m.\u001b[0m\u001b[0m_engine\u001b[0m \u001b[0;34m=\u001b[0m \u001b[0mCParserWrapper\u001b[0m\u001b[0;34m(\u001b[0m\u001b[0mself\u001b[0m\u001b[0;34m.\u001b[0m\u001b[0mf\u001b[0m\u001b[0;34m,\u001b[0m \u001b[0;34m**\u001b[0m\u001b[0mself\u001b[0m\u001b[0;34m.\u001b[0m\u001b[0moptions\u001b[0m\u001b[0;34m)\u001b[0m\u001b[0;34m\u001b[0m\u001b[0;34m\u001b[0m\u001b[0m\n\u001b[0m\u001b[1;32m   1015\u001b[0m         \u001b[0;32melse\u001b[0m\u001b[0;34m:\u001b[0m\u001b[0;34m\u001b[0m\u001b[0;34m\u001b[0m\u001b[0m\n\u001b[1;32m   1016\u001b[0m             \u001b[0;32mif\u001b[0m \u001b[0mengine\u001b[0m \u001b[0;34m==\u001b[0m \u001b[0;34m'python'\u001b[0m\u001b[0;34m:\u001b[0m\u001b[0;34m\u001b[0m\u001b[0;34m\u001b[0m\u001b[0m\n",
      "\u001b[0;32m~/anaconda2/envs/my_pymc_env/lib/python3.6/site-packages/pandas/io/parsers.py\u001b[0m in \u001b[0;36m__init__\u001b[0;34m(self, src, **kwds)\u001b[0m\n\u001b[1;32m   1706\u001b[0m         \u001b[0mkwds\u001b[0m\u001b[0;34m[\u001b[0m\u001b[0;34m'usecols'\u001b[0m\u001b[0;34m]\u001b[0m \u001b[0;34m=\u001b[0m \u001b[0mself\u001b[0m\u001b[0;34m.\u001b[0m\u001b[0musecols\u001b[0m\u001b[0;34m\u001b[0m\u001b[0;34m\u001b[0m\u001b[0m\n\u001b[1;32m   1707\u001b[0m \u001b[0;34m\u001b[0m\u001b[0m\n\u001b[0;32m-> 1708\u001b[0;31m         \u001b[0mself\u001b[0m\u001b[0;34m.\u001b[0m\u001b[0m_reader\u001b[0m \u001b[0;34m=\u001b[0m \u001b[0mparsers\u001b[0m\u001b[0;34m.\u001b[0m\u001b[0mTextReader\u001b[0m\u001b[0;34m(\u001b[0m\u001b[0msrc\u001b[0m\u001b[0;34m,\u001b[0m \u001b[0;34m**\u001b[0m\u001b[0mkwds\u001b[0m\u001b[0;34m)\u001b[0m\u001b[0;34m\u001b[0m\u001b[0;34m\u001b[0m\u001b[0m\n\u001b[0m\u001b[1;32m   1709\u001b[0m \u001b[0;34m\u001b[0m\u001b[0m\n\u001b[1;32m   1710\u001b[0m         \u001b[0mpassed_names\u001b[0m \u001b[0;34m=\u001b[0m \u001b[0mself\u001b[0m\u001b[0;34m.\u001b[0m\u001b[0mnames\u001b[0m \u001b[0;32mis\u001b[0m \u001b[0;32mNone\u001b[0m\u001b[0;34m\u001b[0m\u001b[0;34m\u001b[0m\u001b[0m\n",
      "\u001b[0;32mpandas/_libs/parsers.pyx\u001b[0m in \u001b[0;36mpandas._libs.parsers.TextReader.__cinit__\u001b[0;34m()\u001b[0m\n",
      "\u001b[0;32mpandas/_libs/parsers.pyx\u001b[0m in \u001b[0;36mpandas._libs.parsers.TextReader._setup_parser_source\u001b[0;34m()\u001b[0m\n",
      "\u001b[0;31mFileNotFoundError\u001b[0m: File b'./votos_comb.csv' does not exist"
     ]
    }
   ],
   "source": [
    "\n",
    "# votos = pd.read_csv('./../../Documents/EleccionesARG/data/tablas_votos/VOTOS_2015_17_circ_cnt.csv', index_col=[0, 1, 2], header = [0])\n",
    "votos = pd.read_csv('./votos_comb.csv', index_col=[0, 1], header = [0])\n",
    "# Toda esta vuelta es para ponerle nombres familiares a las listas. Pandas no deja setear nombres repetidos en nivel de multiindex\n",
    "votos.columns = ['ELECTORES', 'ELECTORES', 'ELECTORES', 'VOTANTES', 'VOTANTES',\n",
    "       'VOTANTES', 'CAMBIEMOS', 'CAMBIEMOS', 'CAMBIEMOS', 'FPV / UC', 'FPV / UC', 'FPV / UC', 'Massa', 'Massa', 'Massa', 'BLANCOS', 'BLANCOS', 'BLANCOS',\n",
    "       'FJ (Randazzo)', 'FJ (Randazzo)', 'FIT', 'FIT', 'FIT']\n",
    "cols = list(zip(votos.columns, votos.iloc[0,:]))\n",
    "c1 = pd.MultiIndex.from_tuples(cols, names=['Fuerza', 'Eleccion'])\n",
    "votos = pd.DataFrame(data=votos[2:].values, columns=c1, index=votos.index[2:])\n",
    "votos.index.names = ['area_0','area_1']\n",
    "votos = votos.astype(float).astype(int)\n",
    "# votos.head()"
   ]
  },
  {
   "cell_type": "markdown",
   "metadata": {},
   "source": []
  },
  {
   "cell_type": "code",
   "execution_count": null,
   "metadata": {},
   "outputs": [],
   "source": [
    "## Ej. ingresos por circuito"
   ]
  },
  {
   "cell_type": "code",
   "execution_count": null,
   "metadata": {},
   "outputs": [],
   "source": [
    "# Ingresos por partido y circuito. Se hace proyectando resultados EPH (Indec 2016-18) con la base individual del Censo 2010.\n",
    "# Se cruzan los poligonos de radios censales a distritos electorales.\n",
    "# Pesos deflactados en base a cavallo/pricestats. Serian pesos corrientes a nivel de Sep. 18.\n",
    "# Para 'proyectar' la encuenta permanente de hogares con el censo se usa un modelo de random forests (machine learning). \n",
    "# En base a las caracteristicas de la persona y la vivienda segun censo se predice ingreso con info de EPH"
   ]
  },
  {
   "cell_type": "code",
   "execution_count": null,
   "metadata": {
    "scrolled": false
   },
   "outputs": [],
   "source": [
    "result_comb = pd.read_csv('./result_comb_circ.csv', header = [0, 1], index_col = [0, 1])\n",
    "# show = result_comb.sort_values(by = ('Ingresos (basado en EPH)','electores')).tail(30).sort_index().sort_values(by = ('Ingresos (basado en EPH)','mediana'))\n",
    "# show\n",
    "# # import seaborn as sns\n",
    "# # cm = sns.light_palette(\"green\", as_cmap=True)\n",
    "# # s = show.style.background_gradient(cmap=cm)\n",
    "# # s\n",
    "\n",
    "\n",
    "# # # Ingresos medios por distrito. Esto esta graficado vs votos en los scatterplots"
   ]
  },
  {
   "cell_type": "code",
   "execution_count": null,
   "metadata": {},
   "outputs": [],
   "source": []
  },
  {
   "cell_type": "code",
   "execution_count": null,
   "metadata": {},
   "outputs": [],
   "source": [
    "%%latex\n",
    "\\newpage\n",
    "\n",
    "display(Markdown('Meter markdown en el medio del codigo. Ejemplo plot en un loop y en el medio le ponemos un comentario'))\n"
   ]
  },
  {
   "cell_type": "code",
   "execution_count": null,
   "metadata": {},
   "outputs": [],
   "source": [
    "display(Markdown('# Atlas Distritos'))\n",
    "display(Markdown('## Consulta de distritos electorales'))\n"
   ]
  },
  {
   "cell_type": "code",
   "execution_count": null,
   "metadata": {},
   "outputs": [],
   "source": [
    "%%latex\n",
    "\\newpage"
   ]
  },
  {
   "cell_type": "code",
   "execution_count": null,
   "metadata": {
    "scrolled": false
   },
   "outputs": [],
   "source": [
    "display(Markdown('## Indice.'))\n",
    "display(Markdown('Ordenados por cantidad de electores. Aqui porc. y acumulado de electores por partido.'))\n",
    "display(Markdown('***Si no se encuentra, buscar con Ctrl+F***'))\n",
    "electores_por_area = votos.groupby(axis = 0, level = 0).sum()[[('ELECTORES', 'DN_2017')]]\n",
    "sorted_ = electores_por_area.sort_values(by = [('ELECTORES', 'DN_2017')], ascending = False)\n",
    "orden = (100 * sorted_/sorted_.sum()).round(1); orden.columns = ['porcentaje (%)']\n",
    "orden['acumulado (%)'] = orden['porcentaje (%)'].cumsum()\n",
    "orden#.loc[pd.Index([i for i in orden.index if 'Secci' not in i])]"
   ]
  },
  {
   "cell_type": "code",
   "execution_count": null,
   "metadata": {},
   "outputs": [],
   "source": [
    "%%latex\n",
    "\\newpage"
   ]
  },
  {
   "cell_type": "code",
   "execution_count": null,
   "metadata": {
    "scrolled": false
   },
   "outputs": [],
   "source": [
    "\n",
    "for area in orden.index.values[:35]:\n",
    "# for area in ['la plata', 'general pueyrredon', 'bahia blanca']:\n",
    "\n",
    "    display(Markdown('## Lugar: '))\n",
    "    print(area)\n",
    "    #Mostrar ingresos por circuito\n",
    "    display(Markdown('#### Percentil ingresos por circuito: '))\n",
    "    display(Markdown('Ingresos en pesos corrientes de Sep-2018. Quantiles 25%, 75% y mediana.'))\n",
    "\n",
    "    display(result_comb.loc[area].sort_values(by = ('Ingresos (basado en EPH)','mediana')))\n",
    "    \n",
    "    area_df = gdf2.loc[gdf2.area_0 == area]\n",
    "    \n",
    "    geom = area_df['geometry']\n",
    "    \n",
    "    if area[9:] == u'Secci':\n",
    "        zoom = 10\n",
    "    else:\n",
    "        zf = 13 - 1.5*np.log(gpd.GeoSeries(cascaded_union(area_df['geometry'])).length)\n",
    "        zoom = int(round(zf))\n",
    "#     print(zoom)\n",
    "\n",
    "#     if (area == 'la plata'): zoom = 13\n",
    "#     if (area == 'general pueyrredon'): zoom = 13\n",
    "        \n",
    "    bounds = gpd.GeoSeries(cascaded_union(area_df['geometry'])).bounds.loc[0]\n",
    "        \n",
    "    final = get_maps_image(bounds, zoom = zoom)\n",
    "    # Poly\n",
    "    scale_x = final.width/(bounds[2] - bounds[0])\n",
    "    scale_y = final.height/(bounds[3] - bounds[1])\n",
    "\n",
    "    scaled = area_df.scale(xfact=scale_x, yfact=-scale_y, origin=(0, 0))\n",
    "    # Translate (we need to know the center)\n",
    "    scaled_area = gpd.GeoSeries(cascaded_union(scaled))\n",
    "    centerx, centery = (scaled_area.bounds['maxx'] + scaled_area.bounds['minx'])/2., (scaled_area.bounds['maxy'] + scaled_area.bounds['miny'])/2.\n",
    "    trans = scaled.translate(final.width/2 - centerx,final.height/2 - centery)\n",
    "\n",
    "    display(Markdown('#### Mapa: '))\n",
    "\n",
    "    fig, ax = plt.subplots(1, figsize = (15, 16))\n",
    "    ax.imshow(final)\n",
    "    ax.axis('off')\n",
    " \n",
    "    area_df['coords'] = trans.apply(lambda x: x.representative_point().coords[:])\n",
    "    area_df['coords'] = [coords[0] for coords in area_df['coords']]\n",
    "\n",
    "    minx, maxx = 0, final.width\n",
    "    miny, maxy = final.height, 0\n",
    "    \n",
    "#     print(final.width)\n",
    "#     print(final.height)\n",
    "    offset = -30\n",
    "    \n",
    "    if (area == 'la plata'):\n",
    "        q = .15 # Hackeo para que se vean bien \n",
    "        minx, maxx = 720, 1200\n",
    "        miny, maxy = 2821, 2400\n",
    "        offset = -60\n",
    "        \n",
    "    if (area == 'general pueyrredon'):\n",
    "        q = .15 # Hackeo para que se vean bien \n",
    "        minx, maxx = 1000, 1600\n",
    "        miny, maxy = 1600, 700\n",
    "        offset = -5\n",
    "        \n",
    "    if (area == 'bahia blanca'):\n",
    "        q = .15 # Hackeo para que se vean bien \n",
    "        minx, maxx = 700, 1300\n",
    "        miny, maxy = 1690, 1000\n",
    "        \n",
    "    if (area == 'comuna 04'): offset = -60\n",
    "    if (area in 'avellaneda, berazategui, san miguel, comuna 13, comuna 14, comuna 01, comuna 02, campana'): offset = 0\n",
    "        \n",
    "    trans.translate(0, offset).plot(ax = ax, alpha = 1, facecolor=\"none\", edgecolor='r', linewidth = 1.5) #color = '#ff7f0e',\n",
    "    for idx, row in area_df.iterrows():\n",
    "        x, y = row['coords']; y += offset\n",
    "        if (minx <= x <= maxx) and (maxy <= y <= miny):\n",
    "            ax.annotate(s = row['area_1'], xy = (x, y), horizontalalignment='center', fontsize = 15, color = 'k', fontweight='bold', backgroundcolor = '.9', alpha = .7)\n",
    "    \n",
    "    ax.set_xlim(minx, maxx)\n",
    "    ax.set_ylim(miny, maxy) \n",
    "    plt.show()\n",
    "    \n",
    "    display(Markdown('### Numeros de votos. 2015-17: '))\n",
    "\n",
    "    ### Tabla votos:\n",
    "    votos_area = votos.loc[area].astype(int)#.stack()\n",
    "    max_votos = votos_area.groupby(axis = 1, level = 0).max()\n",
    "    orden = max_votos.mean().sort_values(ascending = False).head().index\n",
    "    votos_area = votos_area.stack()[orden]\n",
    "    votos_area['Resto'] = votos_area.VOTANTES - votos_area.iloc[:, 2:].sum(1)\n",
    "\n",
    "    ix = votos_area['ELECTORES'].sort_values().tail(21).index.get_level_values(0).drop_duplicates()\n",
    "    votos_area_show = votos_area.loc[ix]\n",
    "    votos_area_show = votos_area_show.reindex(pd.MultiIndex.from_product([list(ix), ['DN_2017', 'paso_2017', 'DN_2015']]))\n",
    "    votos_area_show\n",
    "    display(Markdown('votos por circuito. (puede omitir pequenos)'))\n",
    "\n",
    "    display(votos_area_show.fillna(''))\n"
   ]
  },
  {
   "cell_type": "markdown",
   "metadata": {},
   "source": [
    "*Matias Iglesias*"
   ]
  },
  {
   "cell_type": "code",
   "execution_count": null,
   "metadata": {},
   "outputs": [],
   "source": []
  }
 ],
 "metadata": {
  "kernelspec": {
   "display_name": "Python 3",
   "language": "python",
   "name": "python3"
  },
  "language_info": {
   "codemirror_mode": {
    "name": "ipython",
    "version": 3
   },
   "file_extension": ".py",
   "mimetype": "text/x-python",
   "name": "python",
   "nbconvert_exporter": "python",
   "pygments_lexer": "ipython3",
   "version": "3.6.7"
  }
 },
 "nbformat": 4,
 "nbformat_minor": 2
}
